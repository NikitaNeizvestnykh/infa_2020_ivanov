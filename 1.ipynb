{
 "cells": [
  {
   "cell_type": "code",
   "execution_count": 65,
   "metadata": {},
   "outputs": [],
   "source": [
    "import pygame\n",
    "import numpy as np\n",
    "from pygame.draw import *\n",
    "\n",
    "pygame.init()\n",
    "\n",
    "a = 40\n",
    "b = -130\n",
    "x = 170\n",
    "y = 45\n",
    "\n",
    "\n",
    "FPS = 30\n",
    "screen = pygame.display.set_mode((400, 400))\n",
    "\n",
    "polygon(screen, (100, 100, 100), [(0,400), (400,400),\n",
    "                               (400,400), (400,0), (0,0)])\n",
    "\n",
    "circle(screen, (255, 255, 0), (200, 175), 100)\n",
    "circle(screen, (255, 0, 0), (150, 150), 24)\n",
    "circle(screen, (0, 0, 0), (150, 150), 10)\n",
    "circle(screen, (255, 0, 0), (250, 150), 16)\n",
    "circle(screen, (0, 0, 0), (250, 150), 8)\n",
    "\n",
    "polygon(screen, (0, 0, 0), [(100+a,225+b), (150+a,275+b),\n",
    "                               (145+a,280+b), (95+a,230+b), (100+a,225+b)])\n",
    "\n",
    "polygon(screen, (0, 0, 0), [(100+x,50+y), (50+x,100+y),\n",
    "                               (55+x,105+y), (105+x,55+y), (100+x,50+y)])\n",
    "\n",
    "\n",
    "polygon(screen, (0, 0, 0), [(150,225), (250,225),\n",
    "                               (250,240), (150,240), (150,225)])\n",
    "\n",
    "pygame.display.update()\n",
    "clock = pygame.time.Clock()\n",
    "finished = False\n",
    "\n",
    "while not finished:\n",
    "    clock.tick(FPS)\n",
    "    for event in pygame.event.get():\n",
    "        if event.type == pygame.QUIT:\n",
    "            finished = True\n",
    "\n",
    "pygame.quit()\n"
   ]
  },
  {
   "cell_type": "code",
   "execution_count": null,
   "metadata": {},
   "outputs": [],
   "source": []
  },
  {
   "cell_type": "code",
   "execution_count": null,
   "metadata": {},
   "outputs": [],
   "source": []
  }
 ],
 "metadata": {
  "kernelspec": {
   "display_name": "Python 3",
   "language": "python",
   "name": "python3"
  },
  "language_info": {
   "codemirror_mode": {
    "name": "ipython",
    "version": 3
   },
   "file_extension": ".py",
   "mimetype": "text/x-python",
   "name": "python",
   "nbconvert_exporter": "python",
   "pygments_lexer": "ipython3",
   "version": "3.6.8"
  }
 },
 "nbformat": 4,
 "nbformat_minor": 2
}
